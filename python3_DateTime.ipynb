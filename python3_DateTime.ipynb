{
 "cells": [
  {
   "cell_type": "markdown",
   "metadata": {},
   "source": [
    "## 第一个关于Python的Jupyter Notebook,当然首选……  "
   ]
  },
  {
   "cell_type": "code",
   "execution_count": 1,
   "metadata": {
    "scrolled": true,
    "tags": []
   },
   "outputs": [
    {
     "output_type": "stream",
     "name": "stdout",
     "text": "Hello World!\n"
    }
   ],
   "source": [
    "print(\"Hello World!\")"
   ]
  },
  {
   "cell_type": "code",
   "execution_count": 53,
   "metadata": {
    "scrolled": true,
    "tags": []
   },
   "outputs": [
    {
     "name": "stdout",
     "output_type": "stream",
     "text": [
      "abcd213\n"
     ]
    }
   ],
   "source": [
    "#输入一串数据并打印输出\n",
    "str = input(\"输入数据：\")\n",
    "print(str)"
   ]
  },
  {
   "cell_type": "markdown",
   "metadata": {},
   "source": [
    "<div align=\"center\"><img src=\"https://ss2.bdstatic.com/70cFvnSh_Q1YnxGkpoWK1HF6hhy/it/u=1233812337,4270109175&fm=26&gp=0.jpg\" width=\"300\" height=\"300\" alt=\"alt=时间！时间！在悄悄流逝……\"></div>"
   ]
  },
  {
   "cell_type": "markdown",
   "metadata": {},
   "source": [
    "## 关于Python时间格式的两种表达方式  "
   ]
  },
  {
   "cell_type": "markdown",
   "metadata": {},
   "source": [
    "### *datetime*  \n",
    ">相比于time模块，datetime模块的接口则更直观、更容易调用。datetime模块定义了下面这几个类：  \n",
    ">\n",
    "> * datetime.date：表示日期的类。常用的属性有year, month, day；  \n",
    "> * datetime.time：表示时间的类。常用的属性有hour, minute, second, microsecond；  \n",
    "> * datetime.datetime：表示日期时间。  \n",
    "> * datetime.timedelta：表示时间间隔，即两个时间点之间的长度。  \n",
    "> * datetime.tzinfo：与时区有关的相关信息。  \n",
    "> * datetime中，表示日期时间的是一个datetime对象  "
   ]
  },
  {
   "cell_type": "code",
   "execution_count": 51,
   "metadata": {
    "tags": []
   },
   "outputs": [
    {
     "name": "stdout",
     "output_type": "stream",
     "text": [
      "<class 'datetime.datetime'> 2020-08-12 15:38:08.568658\n"
     ]
    }
   ],
   "source": [
    "import datetime\n",
    "\n",
    "# 读取当前时间\n",
    "dt = datetime.datetime.now()\n",
    "print(type(dt), dt)"
   ]
  },
  {
   "cell_type": "code",
   "execution_count": 49,
   "metadata": {
    "tags": []
   },
   "outputs": [
    {
     "name": "stdout",
     "output_type": "stream",
     "text": [
      "<class 'str'> 2020-08-12 15:26:25\n"
     ]
    }
   ],
   "source": [
    "# 将datetime日期时间对象转换成字符串\n",
    "dt_strf = dt.strftime(\"%Y-%m-%d %H:%M:%S\")\n",
    "print(type(dt_strf), dt_strf)"
   ]
  },
  {
   "cell_type": "code",
   "execution_count": 48,
   "metadata": {
    "tags": []
   },
   "outputs": [
    {
     "name": "stdout",
     "output_type": "stream",
     "text": [
      "<class 'datetime.datetime'> 2020-08-12 15:26:25\n"
     ]
    }
   ],
   "source": [
    "# 将格式字符串转换为datetime对象\n",
    "dt_strp = datetime.datetime.strptime(dt_strf, \"%Y-%m-%d %H:%M:%S\")\n",
    "print(type(dt_strp), dt_strp)"
   ]
  },
  {
   "cell_type": "markdown",
   "metadata": {},
   "source": [
    "### *time*  \n",
    ">time模块提供各种操作时间的函数,一般有三种表示时间的方式:  \n",
    "> 1. 时间戳的方式(相对于1970.1.1 00:00:00以秒计算的偏移量),时间戳是惟一的  \n",
    "> 2. 以数组的形式表示即(struct_time),共有九个元素，分别表示，同一个时间戳的struct_time会因为时区不同而不同  \n",
    "> 3. 以字符串的形式表示"
   ]
  },
  {
   "cell_type": "code",
   "execution_count": 54,
   "metadata": {
    "tags": []
   },
   "outputs": [
    {
     "name": "stdout",
     "output_type": "stream",
     "text": [
      "<class 'float'> 1597218367.9552157\n"
     ]
    }
   ],
   "source": [
    "import time\n",
    "\n",
    "#读取当前时间戳\n",
    "t = time.time()\n",
    "print(type(t), t)"
   ]
  },
  {
   "cell_type": "code",
   "execution_count": 55,
   "metadata": {
    "tags": []
   },
   "outputs": [
    {
     "name": "stdout",
     "output_type": "stream",
     "text": [
      "<class 'time.struct_time'> time.struct_time(tm_year=2020, tm_mon=8, tm_mday=12, tm_hour=15, tm_min=46, tm_sec=7, tm_wday=2, tm_yday=225, tm_isdst=0)\n"
     ]
    }
   ],
   "source": [
    "# 当前本地时间\n",
    "t_local = time.localtime(t)\n",
    "print(type(t_local), t_local)"
   ]
  },
  {
   "cell_type": "code",
   "execution_count": 57,
   "metadata": {
    "tags": []
   },
   "outputs": [
    {
     "name": "stdout",
     "output_type": "stream",
     "text": [
      "<class 'str'> Wed Aug 12 15:46:07 2020\n"
     ]
    }
   ],
   "source": [
    "# 函数接受时间元组并返回一个可读的形式为\"Tue Dec 11 18:07:14 2008\"（2008年12月11日 周二18时07分14秒）的24个字符的字符串。\n",
    "t_asc = time.asctime(t_local)\n",
    "print(type(t_asc), t_asc)"
   ]
  },
  {
   "cell_type": "code",
   "execution_count": 58,
   "metadata": {
    "tags": []
   },
   "outputs": [
    {
     "name": "stdout",
     "output_type": "stream",
     "text": [
      "<class 'time.struct_time'> time.struct_time(tm_year=2020, tm_mon=8, tm_mday=12, tm_hour=7, tm_min=9, tm_sec=49, tm_wday=2, tm_yday=225, tm_isdst=0)\n"
     ]
    }
   ],
   "source": [
    "# 将时间戳转换为struct_time型对象\n",
    "t_gm = time.gmtime(t)\n",
    "print(type(tt), tt)"
   ]
  },
  {
   "cell_type": "code",
   "execution_count": 59,
   "metadata": {
    "tags": []
   },
   "outputs": [
    {
     "name": "stdout",
     "output_type": "stream",
     "text": [
      "<class 'float'> 1597218367.0\n"
     ]
    }
   ],
   "source": [
    "# 将struct_time型对象转换为时间戳\n",
    "t_mk = time.mktime(t_local)\n",
    "print(type(t_mk), t_mk)"
   ]
  },
  {
   "cell_type": "code",
   "execution_count": 60,
   "metadata": {
    "tags": []
   },
   "outputs": [
    {
     "name": "stdout",
     "output_type": "stream",
     "text": [
      "<class 'str'> 2020-08-12 15:46:07\n"
     ]
    }
   ],
   "source": [
    "# 将struct_time型对象转换为格式字符串\n",
    "t_strf = time.strftime(\"%Y-%m-%d %H:%M:%S\", t_local)\n",
    "print(type(t_strf), t_strf)"
   ]
  },
  {
   "cell_type": "code",
   "execution_count": 61,
   "metadata": {
    "tags": []
   },
   "outputs": [
    {
     "name": "stdout",
     "output_type": "stream",
     "text": [
      "<class 'time.struct_time'> time.struct_time(tm_year=2020, tm_mon=8, tm_mday=12, tm_hour=15, tm_min=46, tm_sec=7, tm_wday=2, tm_yday=225, tm_isdst=-1)\n"
     ]
    }
   ],
   "source": [
    "# 将格式字符串（日期时间）转换成struct_time型对象\n",
    "t_strp = time.strptime(t_strf, \"%Y-%m-%d %H:%M:%S\")\n",
    "print(type(t_strp), t_strp)"
   ]
  },
  {
   "cell_type": "markdown",
   "metadata": {},
   "source": [
    "## 关于两种时间格式的转换  "
   ]
  },
  {
   "cell_type": "markdown",
   "metadata": {},
   "source": [
    "### *时间戳（float）转换成时间（datetime.datetime）*  "
   ]
  },
  {
   "cell_type": "code",
   "execution_count": 14,
   "metadata": {
    "tags": []
   },
   "outputs": [
    {
     "name": "stdout",
     "output_type": "stream",
     "text": [
      "<class 'float'> 1597212929.6699061\n",
      "<class 'datetime.datetime'> 2020-08-12 14:15:29.669906\n",
      "---------将时间戳数据取整后再转换，去掉秒之后的数据----------\n",
      "<class 'datetime.datetime'> 2020-08-12 14:15:29\n"
     ]
    }
   ],
   "source": [
    "import time\n",
    "import datetime\n",
    "\n",
    "timestamp = time.time()\n",
    "print(type(timestamp), timestamp)\n",
    "\n",
    "time_datetime = datetime.datetime.fromtimestamp(timestamp, None)\n",
    "print(type(time_datetime), time_datetime)\n",
    "\n",
    "# 将时间戳数据取整后再转换，去掉秒之后的数据:\n",
    "print(\"将时间戳数据取整后再转换，去掉秒之后的数据\".center(40, '-'))\n",
    "time_datetime = datetime.datetime.fromtimestamp(int(timestamp), None)\n",
    "print(type(time_datetime), time_datetime)"
   ]
  },
  {
   "cell_type": "markdown",
   "metadata": {},
   "source": [
    "### *时间（datetime.datetime）转换为时间戳（float）*  "
   ]
  },
  {
   "cell_type": "code",
   "execution_count": 23,
   "metadata": {
    "tags": []
   },
   "outputs": [
    {
     "name": "stdout",
     "output_type": "stream",
     "text": [
      "<class 'datetime.datetime'> 2020-08-12 14:33:54.437250\n",
      "<class 'time.struct_time'> time.struct_time(tm_year=2020, tm_mon=8, tm_mday=12, tm_hour=14, tm_min=33, tm_sec=54, tm_wday=2, tm_yday=225, tm_isdst=-1)\n",
      "<class 'float'> 1597214034.0\n"
     ]
    }
   ],
   "source": [
    "import time\n",
    "import datetime\n",
    "\n",
    "now = datetime.datetime.now()\n",
    "print(type(now), now)\n",
    "\n",
    "now_tuple = now.timetuple()\n",
    "print(type(now_tuple), now_tuple)\n",
    "\n",
    "now_stamp = time.mktime(now_tuple)\n",
    "print(type(now_stamp), now_stamp)"
   ]
  },
  {
   "cell_type": "markdown",
   "metadata": {},
   "source": [
    "## 关于时间的运算"
   ]
  },
  {
   "cell_type": "markdown",
   "metadata": {},
   "source": [
    "### *时间的加减运算*    "
   ]
  },
  {
   "cell_type": "code",
   "execution_count": 73,
   "metadata": {
    "tags": []
   },
   "outputs": [
    {
     "name": "stdout",
     "output_type": "stream",
     "text": [
      "当前时间 2020-08-12 17:21:48.212842 与 2020-07-01 12:00:00 的时间差是 42 days, 5:21:48.212842\n",
      "该时间差毫秒部分为： 212842 毫秒\n",
      "该时间差秒部分为： 19308 秒\n",
      "该时间差取整为天： 42 天\n"
     ]
    }
   ],
   "source": [
    "dt_fixed = datetime.datetime(2020, 7, 1, 12, 0, 0)\n",
    "dt_now = datetime.datetime.now()\n",
    "\n",
    "# 时间的减法运算\n",
    "dt_diff = dt_now - dt_fixed\n",
    "print(f\"当前时间 {dt_now} 与 {dt_fixed} 的时间差是 {dt_diff}\")\n",
    "print(f\"该时间差毫秒部分为： {dt_diff.microseconds} 毫秒\")\n",
    "print(f\"该时间差秒部分为： {dt_diff.seconds} 秒\")\n",
    "print(f\"该时间差取整为天： {dt_diff.days} 天\")\n",
    " "
   ]
  },
  {
   "cell_type": "code",
   "execution_count": 74,
   "metadata": {
    "tags": []
   },
   "outputs": [
    {
     "name": "stdout",
     "output_type": "stream",
     "text": [
      "距离当前时间 2020-08-12 17:31:37.223098 1天2小时30分钟10秒500毫秒的时间值为 2020-08-13 20:01:47.223598\n"
     ]
    }
   ],
   "source": [
    "# 得到一个1天2小时30分钟10秒500毫秒的datetime.datetime对象\n",
    "dt_delta = datetime.timedelta(days=1, hours=2, minutes=30, seconds=10, microseconds=500)\n",
    "dt_now = datetime.datetime.now()\n",
    "\n",
    "# 计算出当前时间加上一个特定时间段后得到时间作为闹钟时间\n",
    "dt_warn = dt_now + dt_delta\n",
    "print(f\"距离当前时间 {dt_now} 1天2小时30分钟10秒500毫秒的时间值为 {dt_warn}\")"
   ]
  },
  {
   "cell_type": "markdown",
   "metadata": {},
   "source": [
    "### *时间的比较*  "
   ]
  },
  {
   "cell_type": "code",
   "execution_count": 75,
   "metadata": {
    "tags": []
   },
   "outputs": [
    {
     "name": "stdout",
     "output_type": "stream",
     "text": [
      "当前时间晚于2020-07-01 12:00:00\n"
     ]
    }
   ],
   "source": [
    "if dt_now > dt_fixed:\n",
    "    print(\"当前时间晚于2020-07-01 12:00:00\")\n",
    "else:\n",
    "    print(\"当前时间早于2020-07-01 12:00:00\")"
   ]
  },
  {
   "cell_type": "code",
   "execution_count": 76,
   "metadata": {
    "tags": []
   },
   "outputs": [
    {
     "name": "stdout",
     "output_type": "stream",
     "text": [
      "闹钟时间未到\n"
     ]
    }
   ],
   "source": [
    "if dt_now == dt_warn:\n",
    "    print(\"Ring Ring Ring……\")\n",
    "elif dt_now < dt_warn:\n",
    "    print(\"闹钟时间未到\")\n",
    "else:\n",
    "    print(\"闹钟时间已过\")"
   ]
  }
 ],
 "metadata": {
  "kernelspec": {
   "display_name": "Python37",
   "language": "python",
   "name": "python37"
  },
  "language_info": {
   "codemirror_mode": {
    "name": "ipython",
    "version": 3
   },
   "file_extension": ".py",
   "mimetype": "text/x-python",
   "name": "python",
   "nbconvert_exporter": "python",
   "pygments_lexer": "ipython3",
   "version": "3.7.7-final"
  }
 },
 "nbformat": 4,
 "nbformat_minor": 2
}