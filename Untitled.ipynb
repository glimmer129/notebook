{
 "cells": [
  {
   "cell_type": "markdown",
   "metadata": {},
   "source": [
    "# 这是一个关于Jupyter Notebook的第一个练习"
   ]
  },
  {
   "cell_type": "markdown",
   "metadata": {},
   "source": [
    "Author:glimmer  Datetime:2020-08-10 17:50:00  \n",
    "___"
   ]
  },
  {
   "cell_type": "markdown",
   "metadata": {},
   "source": [
    "### *第一步：Python代码的演示*"
   ]
  },
  {
   "cell_type": "code",
   "execution_count": 4,
   "metadata": {
    "scrolled": true
   },
   "outputs": [
    {
     "name": "stdout",
     "output_type": "stream",
     "text": [
      "Hello World!\n"
     ]
    }
   ],
   "source": [
    "print('Hello World!')"
   ]
  },
  {
   "cell_type": "markdown",
   "metadata": {},
   "source": [
    "### *第二步：插入图片*"
   ]
  },
  {
   "cell_type": "markdown",
   "metadata": {},
   "source": [
    "<img src=\"https://timgsa.baidu.com/timg?image&quality=80&size=b9999_10000&sec=1597062872009&di=e543c6039f6ab39101d1cb63514eed33&imgtype=0&src=http%3A%2F%2Fjrogel.com%2Fwp-content%2Fuploads%2F2015%2F08%2FJupyter-1024x688.jpg\" width=\"200\" height=\"200\" alt=\"这是一个图片\" align=center />  "
   ]
  },
  {
   "cell_type": "markdown",
   "metadata": {},
   "source": [
    "### *第三步：插入链接*"
   ]
  },
  {
   "cell_type": "markdown",
   "metadata": {},
   "source": [
    "[百度](http://www.baidu.com \"这是一个网站链接的测试\")"
   ]
  },
  {
   "cell_type": "markdown",
   "metadata": {},
   "source": [
    "### *第四步：关于引用*"
   ]
  },
  {
   "cell_type": "markdown",
   "metadata": {},
   "source": [
    ">这是一个引用  \n",
    ">关于应用的练习  \n",
    ">END"
   ]
  },
  {
   "cell_type": "markdown",
   "metadata": {},
   "source": [
    "### *第五步：代码框*"
   ]
  },
  {
   "cell_type": "markdown",
   "metadata": {},
   "source": [
    "'import random\n",
    " \n",
    "print(random.randint(0,9))'"
   ]
  },
  {
   "cell_type": "markdown",
   "metadata": {},
   "source": [
    "### *第六步：表格*"
   ]
  },
  {
   "cell_type": "markdown",
   "metadata": {},
   "source": [
    "|tables     |are      |cool     |  \n",
    "|:------------|:---------:|----------:|  \n",
    "|left  |center|right|  \n",
    "|001|002|003|  \n",
    "|aaa|bbb|ccc|  "
   ]
  },
  {
   "cell_type": "markdown",
   "metadata": {},
   "source": [
    "### *第七步：代码段*"
   ]
  },
  {
   "cell_type": "code",
   "execution_count": 10,
   "metadata": {},
   "outputs": [
    {
     "name": "stdout",
     "output_type": "stream",
     "text": [
      "选择运算：\n",
      "1、相加\n",
      "2、相减\n",
      "3、相乘\n",
      "4、相除\n",
      "输入你的选择(1/2/3/4):1\n",
      "输入第一个数字: 2\n",
      "输入第二个数字: 5\n",
      "2 + 5 = 7\n"
     ]
    }
   ],
   "source": [
    "# Filename : test.py\n",
    "# author by : www.runoob.com\n",
    " \n",
    "# 定义函数\n",
    "def add(x, y):\n",
    "   \"\"\"相加\"\"\"\n",
    " \n",
    "   return x + y\n",
    " \n",
    "def subtract(x, y):\n",
    "   \"\"\"相减\"\"\"\n",
    " \n",
    "   return x - y\n",
    " \n",
    "def multiply(x, y):\n",
    "   \"\"\"相乘\"\"\"\n",
    " \n",
    "   return x * y\n",
    " \n",
    "def divide(x, y):\n",
    "   \"\"\"相除\"\"\"\n",
    " \n",
    "   return x / y\n",
    " \n",
    "# 用户输入\n",
    "print(\"选择运算：\")\n",
    "print(\"1、相加\")\n",
    "print(\"2、相减\")\n",
    "print(\"3、相乘\")\n",
    "print(\"4、相除\")\n",
    " \n",
    "choice = input(\"输入你的选择(1/2/3/4):\")\n",
    " \n",
    "num1 = int(input(\"输入第一个数字: \"))\n",
    "num2 = int(input(\"输入第二个数字: \"))\n",
    " \n",
    "if choice == '1':\n",
    "   print(num1,\"+\",num2,\"=\", add(num1,num2))\n",
    " \n",
    "elif choice == '2':\n",
    "   print(num1,\"-\",num2,\"=\", subtract(num1,num2))\n",
    " \n",
    "elif choice == '3':\n",
    "   print(num1,\"*\",num2,\"=\", multiply(num1,num2))\n",
    " \n",
    "elif choice == '4':\n",
    "   print(num1,\"/\",num2,\"=\", divide(num1,num2))\n",
    "else:\n",
    "   print(\"非法输入\")"
   ]
  }
 ],
 "metadata": {
  "kernelspec": {
   "display_name": "Python 3",
   "language": "python",
   "name": "python3"
  },
  "language_info": {
   "codemirror_mode": {
    "name": "ipython",
    "version": 3
   },
   "file_extension": ".py",
   "mimetype": "text/x-python",
   "name": "python",
   "nbconvert_exporter": "python",
   "pygments_lexer": "ipython3",
   "version": "3.8.3"
  }
 },
 "nbformat": 4,
 "nbformat_minor": 4
}
